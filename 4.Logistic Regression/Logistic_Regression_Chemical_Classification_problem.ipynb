{
 "cells": [
  {
   "cell_type": "code",
   "execution_count": 1,
   "metadata": {},
   "outputs": [],
   "source": [
    "import numpy as np\n",
    "import pandas as pd\n",
    "import matplotlib.pyplot as plt"
   ]
  },
  {
   "cell_type": "code",
   "execution_count": 2,
   "metadata": {},
   "outputs": [],
   "source": [
    "df_x = pd.read_csv(\"./Training/Logistic_X_Train.csv\")\n",
    "df_y = pd.read_csv(\"./Training/Logistic_Y_Train.csv\")"
   ]
  },
  {
   "cell_type": "code",
   "execution_count": 3,
   "metadata": {},
   "outputs": [
    {
     "data": {
      "text/plain": [
       "<bound method NDFrame.head of             f1        f2        f3\n",
       "0    -1.239375  0.749101 -0.528515\n",
       "1    -1.036070  0.801436 -1.283712\n",
       "2    -0.615579  1.579521 -1.391927\n",
       "3     1.335978  1.348651  1.433564\n",
       "4     0.658925  1.300019  0.571603\n",
       "...        ...       ...       ...\n",
       "2995 -0.455628  1.302303 -1.338027\n",
       "2996 -0.434551  1.597813 -1.748643\n",
       "2997  0.088277  1.638789 -2.193641\n",
       "2998  1.525155  0.859234  1.505308\n",
       "2999 -0.979817  0.563954 -1.539394\n",
       "\n",
       "[3000 rows x 3 columns]>"
      ]
     },
     "execution_count": 3,
     "metadata": {},
     "output_type": "execute_result"
    }
   ],
   "source": [
    "df_x.head"
   ]
  },
  {
   "cell_type": "code",
   "execution_count": 4,
   "metadata": {},
   "outputs": [],
   "source": [
    "x=df_x.values\n",
    "y=df_y.values"
   ]
  },
  {
   "cell_type": "code",
   "execution_count": 5,
   "metadata": {},
   "outputs": [],
   "source": [
    "#Normalizing Data\n",
    "u = x.mean(axis=0)\n",
    "sigma = x.std(axis=0)\n",
    "x=(x-u)/sigma"
   ]
  },
  {
   "cell_type": "code",
   "execution_count": 6,
   "metadata": {},
   "outputs": [
    {
     "name": "stdout",
     "output_type": "stream",
     "text": [
      "[[-0.93471307 -0.24439694 -0.46140414]\n",
      " [-0.7823013  -0.19327286 -1.08586573]\n",
      " [-0.46707053  0.56681072 -1.17534766]\n",
      " ...\n",
      " [ 0.06059095  0.62470809 -1.83827342]\n",
      " [ 1.13777964 -0.13681202  1.22033571]\n",
      " [-0.74013008 -0.42526137 -1.29728616]] [[1]\n",
      " [1]\n",
      " [1]\n",
      " ...\n",
      " [1]\n",
      " [0]\n",
      " [1]]\n"
     ]
    }
   ],
   "source": [
    "print(x,y)"
   ]
  },
  {
   "cell_type": "code",
   "execution_count": 7,
   "metadata": {},
   "outputs": [],
   "source": [
    "def hypothesis(x,w,b):\n",
    "    hyp = np.dot(x,w)+b\n",
    "    return sigmoid(hyp)\n",
    "def sigmoid(z):\n",
    "    return (1.0/(1.0+np.exp(-1.0*z)))\n",
    "def error(x,w,b,y):\n",
    "    m = x.shape[0]\n",
    "    err=0\n",
    "    for i in range(m):\n",
    "        hyp = hypothesis(x,w,b)\n",
    "        err += (y[i]*np.log2(hyp))+((1-y[i])*np.log2(1-hyp))\n",
    "    return err/m\n",
    "def grad(y,x,w,b):\n",
    "    grad_w = np.zeros((w.shape))\n",
    "    grad_b = 0.0\n",
    "    for i in range(m):\n",
    "        hyp = hypothesis(x[i],w,b)\n",
    "        grad_w += (y[i]-hyp)*x[i]\n",
    "        grad_b +=(y[i]-hyp)\n",
    "    grad_b/=m\n",
    "    grad_w/=m\n",
    "    return [grad_w,grad_b]\n",
    "def gradient_assent(x,y,w,b,learning_rate=0.1):\n",
    "    m = x.shape[1]\n",
    "    for j in range(100):\n",
    "        for i in range(m):\n",
    "            grad_w,grad_b=grad(y,x,w,b)\n",
    "            w[i] = w[i]+learning_rate*grad_w[i]\n",
    "            b = b+learning_rate*grad_b\n",
    "    return w,b,error\n",
    "        \n",
    "def predict(x_query,w,b):\n",
    "    confidence = hypothesis(x_query,w,b)\n",
    "    if(confidence < 0.5):\n",
    "        return 1\n",
    "    else:\n",
    "        return 0\n",
    "def accuracy(x_query,y,w,b):\n",
    "    y_pred=[]\n",
    "    for i in range(y.shape[0]):\n",
    "        y_pred.append(predict(x_query[i],w,b))\n",
    "    y_pred=np.array(y_pred)\n",
    "    return ((y_pred==y).sum())/y_pred.shape[0]\n",
    "    \n",
    "    \n",
    "    \n",
    "        \n",
    "        \n",
    "\n",
    "    \n",
    "    "
   ]
  },
  {
   "cell_type": "code",
   "execution_count": 8,
   "metadata": {},
   "outputs": [],
   "source": [
    "w = 2*np.random.random((x.shape[1],))\n",
    "b = 2*np.random.random()"
   ]
  },
  {
   "cell_type": "code",
   "execution_count": 9,
   "metadata": {},
   "outputs": [],
   "source": [
    "x_test = pd.read_csv(\"./Test/Logistic_X_Test.csv\")\n",
    "x_test=x_test.values\n",
    "u = x_test.mean(axis=0)\n",
    "sigma = x_test.std(axis=0)\n",
    "x_test=(x_test-u)/sigma"
   ]
  },
  {
   "cell_type": "code",
   "execution_count": 10,
   "metadata": {},
   "outputs": [
    {
     "data": {
      "text/plain": [
       "(1000,)"
      ]
     },
     "execution_count": 10,
     "metadata": {},
     "output_type": "execute_result"
    }
   ],
   "source": [
    "y_test=[]\n",
    "for i in range(x_test.shape[0]):\n",
    "    y_test.append(predict(x_test[i],w,b))\n",
    "y_test = np.array(y_test)\n",
    "y_test.shape"
   ]
  },
  {
   "cell_type": "code",
   "execution_count": 11,
   "metadata": {},
   "outputs": [
    {
     "data": {
      "text/plain": [
       "(1000, 3)"
      ]
     },
     "execution_count": 11,
     "metadata": {},
     "output_type": "execute_result"
    }
   ],
   "source": [
    "x_test.shape"
   ]
  },
  {
   "cell_type": "code",
   "execution_count": 12,
   "metadata": {},
   "outputs": [],
   "source": [
    "df = pd.DataFrame(y_test)"
   ]
  },
  {
   "cell_type": "code",
   "execution_count": 13,
   "metadata": {},
   "outputs": [],
   "source": [
    "df.columns =[\"label\"]"
   ]
  },
  {
   "cell_type": "code",
   "execution_count": 14,
   "metadata": {},
   "outputs": [],
   "source": [
    "df.to_csv(\"Result.csv\",index=False)"
   ]
  },
  {
   "cell_type": "code",
   "execution_count": null,
   "metadata": {},
   "outputs": [],
   "source": []
  },
  {
   "cell_type": "code",
   "execution_count": null,
   "metadata": {},
   "outputs": [],
   "source": []
  }
 ],
 "metadata": {
  "kernelspec": {
   "display_name": "Python 3",
   "language": "python",
   "name": "python3"
  },
  "language_info": {
   "codemirror_mode": {
    "name": "ipython",
    "version": 3
   },
   "file_extension": ".py",
   "mimetype": "text/x-python",
   "name": "python",
   "nbconvert_exporter": "python",
   "pygments_lexer": "ipython3",
   "version": "3.7.4"
  }
 },
 "nbformat": 4,
 "nbformat_minor": 2
}
