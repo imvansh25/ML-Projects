{
 "cells": [
  {
   "cell_type": "code",
   "execution_count": 1,
   "metadata": {},
   "outputs": [],
   "source": [
    "import requests\n",
    "from bs4 import BeautifulSoup as bs\n",
    "import pandas as pd"
   ]
  },
  {
   "cell_type": "code",
   "execution_count": 2,
   "metadata": {},
   "outputs": [],
   "source": [
    "def scrap(link):\n",
    "    headers = {\n",
    "        'User-Agent': 'Mozilla/5.0 (Windows NT 6.1) AppleWebKit/537.36 (KHTML, like Gecko) Chrome/41.0.2228.0 Safari/537.36',\n",
    "    }\n",
    "    page = requests.get(link,headers=headers)\n",
    "    print(page)\n",
    "    soup = bs(page.content,'html.parser')\n",
    "    names = soup.find_all('div',class_='a-profile-content')\n",
    "    names = [name.get_text() for name in names]\n",
    "    reviews = soup.find_all('div',class_='a-expander-content reviewText review-text-content a-expander-partial-collapse-content')\n",
    "    reviews = [review.get_text().replace(\"\\n\",\"\") for review in reviews]\n",
    "    return names,reviews"
   ]
  },
  {
   "cell_type": "code",
   "execution_count": 3,
   "metadata": {},
   "outputs": [],
   "source": [
    "## List of URl of 10 Phones of different brand\n",
    "\n",
    "links=[\"https://www.amazon.in/Samsung-Galaxy-Storage-Additional-Exchange/dp/B089MS4LGT/ref=sr_1_14?dchild=1&keywords=samsung+phones&qid=1596825250&sr=8-14\",\n",
    "       \"https://www.amazon.in/Test-Exclusive-668/dp/B07HGH88GL/ref=sr_1_1_sspa?crid=M5PETR5H2FDY&dchild=1&keywords=mobile+under+15%2C000&qid=1596868383&sprefix=mobile%2Caps%2C318&sr=8-1-spons&psc=1&spLa=ZW5jcnlwdGVkUXVhbGlmaWVyPUEzNlhHRktVWEpSVUowJmVuY3J5cHRlZElkPUEwMDY1NDQwM0xITjBRMEtMTkNRRiZlbmNyeXB0ZWRBZElkPUEwMTUwNzg1MzE2SFpPQ01NOThXRyZ3aWRnZXROYW1lPXNwX2F0ZiZhY3Rpb249Y2xpY2tSZWRpcmVjdCZkb05vdExvZ0NsaWNrPXRydWU=\",\n",
    "       \"https://www.amazon.in/Vivo-Storage-Additional-Exchange-Offers/dp/B086KDZGTZ/ref=sr_1_2_sspa?crid=M5PETR5H2FDY&dchild=1&keywords=mobile+under+15%2C000&qid=1596868383&sprefix=mobile%2Caps%2C318&sr=8-2-spons&psc=1&spLa=ZW5jcnlwdGVkUXVhbGlmaWVyPUEzNlhHRktVWEpSVUowJmVuY3J5cHRlZElkPUEwMDY1NDQwM0xITjBRMEtMTkNRRiZlbmNyeXB0ZWRBZElkPUEwOTM5NjQ5NkpCQ1lPQ1NZTTNUJndpZGdldE5hbWU9c3BfYXRmJmFjdGlvbj1jbGlja1JlZGlyZWN0JmRvTm90TG9nQ2xpY2s9dHJ1ZQ==\",\n",
    "       \"https://www.amazon.in/Redmi-K20-Pro-Pearl-Storage/dp/B07YNT8PDT/ref=sr_1_4?dchild=1&keywords=mobile+under+25%2C000&qid=1596868782&sr=8-4\",\n",
    "       \"https://www.amazon.in/Dazzling-Storage-Additional-Exchange-Offers/dp/B07SDPJ4XJ/ref=sr_1_6?crid=M5PETR5H2FDY&dchild=1&keywords=mobile+under+15%2C000&qid=1596868383&sprefix=mobile%2Caps%2C318&sr=8-6\",\n",
    "       \"https://www.amazon.in/Marble-Storage-Additional-Exchange-Offers/dp/B07PQ7CXMB/ref=sr_1_7?crid=M5PETR5H2FDY&dchild=1&keywords=mobile+under+15%2C000&qid=1596868383&sprefix=mobile%2Caps%2C318&sr=8-7\",\n",
    "       \"https://www.amazon.in/Vivo-Emerald-Storage-Additional-Exchange/dp/B086KG11W3/ref=sr_1_11_sspa?crid=M5PETR5H2FDY&dchild=1&keywords=mobile+under+15%2C000&qid=1596868383&sprefix=mobile%2Caps%2C318&sr=8-11-spons&psc=1&spLa=ZW5jcnlwdGVkUXVhbGlmaWVyPUEzNlhHRktVWEpSVUowJmVuY3J5cHRlZElkPUEwMDY1NDQwM0xITjBRMEtMTkNRRiZlbmNyeXB0ZWRBZElkPUEwMDU5MDIySlBQU1k5RlVQUkxZJndpZGdldE5hbWU9c3BfbXRmJmFjdGlvbj1jbGlja1JlZGlyZWN0JmRvTm90TG9nQ2xpY2s9dHJ1ZQ==\",\n",
    "       \"https://www.amazon.in/Honor-9X-%E0%A4%AE%E0%A4%BF%E0%A4%A1-%E0%A4%A8%E0%A4%BE%E0%A4%87%E0%A4%9F-%E0%A4%AC%E0%A5%8D%E0%A4%B2%E0%A5%88%E0%A4%95/dp/B0856CF481/ref=sr_1_14?crid=M5PETR5H2FDY&dchild=1&keywords=mobile+under+15%2C000&qid=1596868383&sprefix=mobile%2Caps%2C318&sr=8-14\",\n",
    "       \"https://www.amazon.in/Apple-iPhone-Plus-Gold-64GB/dp/B071HWTHBK/ref=sr_1_1?crid=21LTTV24RZV7P&dchild=1&keywords=apple+i8+phone&qid=1596868830&sprefix=apple+i8%2Caps%2C296&sr=8-1\",\n",
    "       \"https://www.amazon.in/MWM02HN-A-Apple-iPhone-%E0%A4%95%E0%A4%BE%E0%A4%B2%E0%A4%BE/dp/B07XVLW7YK/ref=sr_1_1?dchild=1&keywords=apple+i+11+phone&qid=1596869150&sr=8-1\"\n",
    "    \n",
    "]"
   ]
  },
  {
   "cell_type": "code",
   "execution_count": 4,
   "metadata": {},
   "outputs": [
    {
     "name": "stdout",
     "output_type": "stream",
     "text": [
      "<Response [200]>\n",
      "8 8\n",
      "<Response [200]>\n",
      "8 8\n",
      "<Response [200]>\n",
      "8 8\n",
      "<Response [200]>\n",
      "8 8\n",
      "<Response [200]>\n",
      "8 8\n",
      "<Response [200]>\n",
      "8 8\n",
      "<Response [200]>\n",
      "8 8\n",
      "<Response [200]>\n",
      "8 8\n",
      "<Response [200]>\n",
      "10 10\n",
      "<Response [200]>\n",
      "8 8\n"
     ]
    }
   ],
   "source": [
    "user=[]\n",
    "reviews=[]\n",
    "for link in links:\n",
    "    user_list,review_list=scrap(link)\n",
    "    print(len(user_list),len(review_list))\n",
    "    user+=user_list\n",
    "    reviews+=review_list\n",
    "    "
   ]
  },
  {
   "cell_type": "code",
   "execution_count": 7,
   "metadata": {},
   "outputs": [
    {
     "data": {
      "text/html": [
       "<div>\n",
       "<style scoped>\n",
       "    .dataframe tbody tr th:only-of-type {\n",
       "        vertical-align: middle;\n",
       "    }\n",
       "\n",
       "    .dataframe tbody tr th {\n",
       "        vertical-align: top;\n",
       "    }\n",
       "\n",
       "    .dataframe thead th {\n",
       "        text-align: right;\n",
       "    }\n",
       "</style>\n",
       "<table border=\"1\" class=\"dataframe\">\n",
       "  <thead>\n",
       "    <tr style=\"text-align: right;\">\n",
       "      <th></th>\n",
       "      <th>User</th>\n",
       "      <th>Reviews</th>\n",
       "    </tr>\n",
       "  </thead>\n",
       "  <tbody>\n",
       "    <tr>\n",
       "      <th>0</th>\n",
       "      <td>Milind Katkar</td>\n",
       "      <td>Really great phone....Dont think too much .....</td>\n",
       "    </tr>\n",
       "    <tr>\n",
       "      <th>1</th>\n",
       "      <td>R.B.Paraskar</td>\n",
       "      <td>Slow system</td>\n",
       "    </tr>\n",
       "    <tr>\n",
       "      <th>2</th>\n",
       "      <td>zaheer</td>\n",
       "      <td>My first experience samsung brand</td>\n",
       "    </tr>\n",
       "    <tr>\n",
       "      <th>3</th>\n",
       "      <td>Gautam D.</td>\n",
       "      <td>Good performance and light in weight.  Rear ...</td>\n",
       "    </tr>\n",
       "    <tr>\n",
       "      <th>4</th>\n",
       "      <td>BHEL A.</td>\n",
       "      <td>Overall mobile is good but seems slow and le...</td>\n",
       "    </tr>\n",
       "  </tbody>\n",
       "</table>\n",
       "</div>"
      ],
      "text/plain": [
       "            User                                            Reviews\n",
       "0  Milind Katkar    Really great phone....Dont think too much .....\n",
       "1   R.B.Paraskar                                        Slow system\n",
       "2         zaheer                  My first experience samsung brand\n",
       "3      Gautam D.    Good performance and light in weight.  Rear ...\n",
       "4        BHEL A.    Overall mobile is good but seems slow and le..."
      ]
     },
     "execution_count": 7,
     "metadata": {},
     "output_type": "execute_result"
    }
   ],
   "source": [
    "data = list(zip(user,reviews))\n",
    "df = pd.DataFrame(data, columns=[\"User\",\"Reviews\"])\n",
    "df.head()"
   ]
  },
  {
   "cell_type": "code",
   "execution_count": 8,
   "metadata": {},
   "outputs": [],
   "source": [
    "df.to_csv(\"amazon_reviews.csv\",index=False)"
   ]
  },
  {
   "cell_type": "code",
   "execution_count": null,
   "metadata": {},
   "outputs": [],
   "source": []
  }
 ],
 "metadata": {
  "kernelspec": {
   "display_name": "Python 3",
   "language": "python",
   "name": "python3"
  },
  "language_info": {
   "codemirror_mode": {
    "name": "ipython",
    "version": 3
   },
   "file_extension": ".py",
   "mimetype": "text/x-python",
   "name": "python",
   "nbconvert_exporter": "python",
   "pygments_lexer": "ipython3",
   "version": "3.7.7"
  }
 },
 "nbformat": 4,
 "nbformat_minor": 4
}
