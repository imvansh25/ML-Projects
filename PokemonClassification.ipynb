{
 "cells": [
  {
   "cell_type": "code",
   "execution_count": 1,
   "metadata": {},
   "outputs": [],
   "source": [
    "import pandas as pd\n",
    "import numpy as np\n",
    "import matplotlib.pyplot as plt\n",
    "import cv2\n"
   ]
  },
  {
   "cell_type": "code",
   "execution_count": 2,
   "metadata": {},
   "outputs": [],
   "source": [
    "import os\n",
    "from pathlib import Path"
   ]
  },
  {
   "cell_type": "code",
   "execution_count": 3,
   "metadata": {},
   "outputs": [],
   "source": [
    "df = pd.read_csv(\"./Train/train.csv\")"
   ]
  },
  {
   "cell_type": "code",
   "execution_count": 4,
   "metadata": {},
   "outputs": [],
   "source": [
    "y=df.values"
   ]
  },
  {
   "cell_type": "code",
   "execution_count": 5,
   "metadata": {},
   "outputs": [
    {
     "data": {
      "text/plain": [
       "array([['296.jpg', 'Pikachu'],\n",
       "       ['297.jpg', 'Pikachu'],\n",
       "       ['298.jpg', 'Pikachu'],\n",
       "       ['299.jpg', 'Pikachu'],\n",
       "       ['300.jpg', 'Pikachu'],\n",
       "       ['301.jpg', 'Pikachu'],\n",
       "       ['302.jpg', 'Pikachu'],\n",
       "       ['303.jpg', 'Pikachu'],\n",
       "       ['304.jpg', 'Pikachu'],\n",
       "       ['305.jpg', 'Pikachu'],\n",
       "       ['306.jpg', 'Pikachu'],\n",
       "       ['307.jpg', 'Pikachu'],\n",
       "       ['308.jpg', 'Pikachu'],\n",
       "       ['309.jpg', 'Pikachu'],\n",
       "       ['310.jpg', 'Pikachu'],\n",
       "       ['311.jpg', 'Pikachu'],\n",
       "       ['312.jpg', 'Pikachu'],\n",
       "       ['313.jpg', 'Pikachu'],\n",
       "       ['314.jpg', 'Pikachu'],\n",
       "       ['315.jpg', 'Pikachu'],\n",
       "       ['316.jpg', 'Pikachu'],\n",
       "       ['317.jpg', 'Pikachu'],\n",
       "       ['318.jpg', 'Pikachu'],\n",
       "       ['319.jpg', 'Pikachu'],\n",
       "       ['320.jpg', 'Pikachu'],\n",
       "       ['321.jpg', 'Pikachu'],\n",
       "       ['322.jpg', 'Pikachu'],\n",
       "       ['323.jpg', 'Pikachu'],\n",
       "       ['324.jpg', 'Pikachu'],\n",
       "       ['325.jpg', 'Pikachu'],\n",
       "       ['326.jpg', 'Pikachu'],\n",
       "       ['327.jpg', 'Pikachu'],\n",
       "       ['328.jpg', 'Pikachu'],\n",
       "       ['329.jpg', 'Pikachu'],\n",
       "       ['330.jpg', 'Pikachu'],\n",
       "       ['331.jpg', 'Pikachu'],\n",
       "       ['332.jpg', 'Pikachu'],\n",
       "       ['333.jpg', 'Pikachu'],\n",
       "       ['334.jpg', 'Pikachu'],\n",
       "       ['335.jpg', 'Pikachu'],\n",
       "       ['336.jpg', 'Pikachu'],\n",
       "       ['337.jpg', 'Pikachu'],\n",
       "       ['338.jpg', 'Pikachu'],\n",
       "       ['339.jpg', 'Pikachu'],\n",
       "       ['340.jpg', 'Pikachu'],\n",
       "       ['341.jpg', 'Pikachu'],\n",
       "       ['342.jpg', 'Pikachu'],\n",
       "       ['343.jpg', 'Pikachu'],\n",
       "       ['344.jpg', 'Pikachu'],\n",
       "       ['345.jpg', 'Pikachu'],\n",
       "       ['346.jpg', 'Pikachu'],\n",
       "       ['347.jpg', 'Pikachu'],\n",
       "       ['348.jpg', 'Pikachu'],\n",
       "       ['349.jpg', 'Pikachu'],\n",
       "       ['350.jpg', 'Pikachu'],\n",
       "       ['351.jpg', 'Pikachu'],\n",
       "       ['352.jpg', 'Pikachu'],\n",
       "       ['353.jpg', 'Pikachu'],\n",
       "       ['354.jpg', 'Pikachu'],\n",
       "       ['355.jpg', 'Pikachu'],\n",
       "       ['356.jpg', 'Pikachu'],\n",
       "       ['357.jpg', 'Pikachu'],\n",
       "       ['358.jpg', 'Pikachu'],\n",
       "       ['359.jpg', 'Pikachu'],\n",
       "       ['360.jpg', 'Pikachu'],\n",
       "       ['361.jpg', 'Pikachu'],\n",
       "       ['362.jpg', 'Pikachu'],\n",
       "       ['363.jpg', 'Pikachu'],\n",
       "       ['364.jpg', 'Pikachu'],\n",
       "       ['365.jpg', 'Pikachu'],\n",
       "       ['366.jpg', 'Pikachu'],\n",
       "       ['367.jpg', 'Pikachu'],\n",
       "       ['368.jpg', 'Pikachu'],\n",
       "       ['369.jpg', 'Pikachu'],\n",
       "       ['370.jpg', 'Pikachu'],\n",
       "       ['371.jpg', 'Pikachu'],\n",
       "       ['372.jpg', 'Pikachu'],\n",
       "       ['373.jpg', 'Pikachu'],\n",
       "       ['374.jpg', 'Pikachu'],\n",
       "       ['375.jpg', 'Pikachu'],\n",
       "       ['376.jpg', 'Pikachu'],\n",
       "       ['377.jpg', 'Pikachu'],\n",
       "       ['378.jpg', 'Pikachu'],\n",
       "       ['379.jpg', 'Pikachu'],\n",
       "       ['380.jpg', 'Pikachu'],\n",
       "       ['381.jpg', 'Pikachu'],\n",
       "       ['382.jpg', 'Pikachu'],\n",
       "       ['383.jpg', 'Pikachu'],\n",
       "       ['384.jpg', 'Pikachu'],\n",
       "       ['385.jpg', 'Pikachu'],\n",
       "       ['386.jpg', 'Pikachu'],\n",
       "       ['387.jpg', 'Pikachu'],\n",
       "       ['388.jpg', 'Pikachu'],\n",
       "       ['389.jpg', 'Pikachu'],\n",
       "       ['390.jpg', 'Pikachu'],\n",
       "       ['391.jpg', 'Pikachu'],\n",
       "       ['392.jpg', 'Pikachu'],\n",
       "       ['393.jpg', 'Pikachu'],\n",
       "       ['394.jpg', 'Pikachu'],\n",
       "       ['395.jpg', 'Pikachu'],\n",
       "       ['396.jpg', 'Pikachu'],\n",
       "       ['397.jpg', 'Bulbasaur'],\n",
       "       ['398.jpg', 'Bulbasaur'],\n",
       "       ['399.jpg', 'Bulbasaur'],\n",
       "       ['400.jpg', 'Bulbasaur'],\n",
       "       ['401.jpg', 'Bulbasaur'],\n",
       "       ['402.jpg', 'Bulbasaur'],\n",
       "       ['403.jpg', 'Bulbasaur'],\n",
       "       ['404.jpg', 'Bulbasaur'],\n",
       "       ['405.jpg', 'Bulbasaur'],\n",
       "       ['406.jpg', 'Bulbasaur'],\n",
       "       ['407.jpg', 'Bulbasaur'],\n",
       "       ['408.jpg', 'Bulbasaur'],\n",
       "       ['409.jpg', 'Bulbasaur'],\n",
       "       ['410.jpg', 'Bulbasaur'],\n",
       "       ['411.jpg', 'Bulbasaur'],\n",
       "       ['412.jpg', 'Bulbasaur'],\n",
       "       ['413.jpg', 'Bulbasaur'],\n",
       "       ['414.jpg', 'Bulbasaur'],\n",
       "       ['415.jpg', 'Bulbasaur'],\n",
       "       ['416.jpg', 'Bulbasaur'],\n",
       "       ['417.jpg', 'Bulbasaur'],\n",
       "       ['418.jpg', 'Bulbasaur'],\n",
       "       ['419.jpg', 'Bulbasaur'],\n",
       "       ['420.jpg', 'Bulbasaur'],\n",
       "       ['421.jpg', 'Bulbasaur'],\n",
       "       ['422.jpg', 'Bulbasaur'],\n",
       "       ['423.jpg', 'Bulbasaur'],\n",
       "       ['424.jpg', 'Bulbasaur'],\n",
       "       ['425.jpg', 'Bulbasaur'],\n",
       "       ['426.jpg', 'Bulbasaur'],\n",
       "       ['427.jpg', 'Bulbasaur'],\n",
       "       ['428.jpg', 'Bulbasaur'],\n",
       "       ['429.jpg', 'Bulbasaur'],\n",
       "       ['430.jpg', 'Bulbasaur'],\n",
       "       ['431.jpg', 'Bulbasaur'],\n",
       "       ['432.jpg', 'Bulbasaur'],\n",
       "       ['433.jpg', 'Bulbasaur'],\n",
       "       ['434.jpg', 'Bulbasaur'],\n",
       "       ['435.jpg', 'Bulbasaur'],\n",
       "       ['436.jpg', 'Bulbasaur'],\n",
       "       ['437.jpg', 'Bulbasaur'],\n",
       "       ['438.jpg', 'Bulbasaur'],\n",
       "       ['439.jpg', 'Bulbasaur'],\n",
       "       ['440.jpg', 'Bulbasaur'],\n",
       "       ['441.jpg', 'Bulbasaur'],\n",
       "       ['442.jpg', 'Bulbasaur'],\n",
       "       ['443.jpg', 'Bulbasaur'],\n",
       "       ['444.jpg', 'Bulbasaur'],\n",
       "       ['445.jpg', 'Bulbasaur'],\n",
       "       ['446.jpg', 'Bulbasaur'],\n",
       "       ['447.jpg', 'Bulbasaur'],\n",
       "       ['448.jpg', 'Bulbasaur'],\n",
       "       ['449.jpg', 'Bulbasaur'],\n",
       "       ['450.jpg', 'Bulbasaur'],\n",
       "       ['451.jpg', 'Bulbasaur'],\n",
       "       ['452.jpg', 'Bulbasaur'],\n",
       "       ['453.jpg', 'Bulbasaur'],\n",
       "       ['454.jpg', 'Bulbasaur'],\n",
       "       ['455.jpg', 'Bulbasaur'],\n",
       "       ['456.jpg', 'Bulbasaur'],\n",
       "       ['457.jpg', 'Bulbasaur'],\n",
       "       ['458.jpg', 'Bulbasaur'],\n",
       "       ['459.jpg', 'Bulbasaur'],\n",
       "       ['460.jpg', 'Bulbasaur'],\n",
       "       ['461.jpg', 'Bulbasaur'],\n",
       "       ['462.jpg', 'Bulbasaur'],\n",
       "       ['463.jpg', 'Bulbasaur'],\n",
       "       ['464.jpg', 'Bulbasaur'],\n",
       "       ['465.jpg', 'Bulbasaur'],\n",
       "       ['466.jpg', 'Bulbasaur'],\n",
       "       ['467.jpg', 'Bulbasaur'],\n",
       "       ['468.jpg', 'Bulbasaur'],\n",
       "       ['469.jpg', 'Bulbasaur'],\n",
       "       ['470.jpg', 'Bulbasaur'],\n",
       "       ['471.jpg', 'Bulbasaur'],\n",
       "       ['472.jpg', 'Bulbasaur'],\n",
       "       ['473.jpg', 'Bulbasaur'],\n",
       "       ['474.jpg', 'Bulbasaur'],\n",
       "       ['475.jpg', 'Bulbasaur'],\n",
       "       ['476.jpg', 'Bulbasaur'],\n",
       "       ['477.jpg', 'Bulbasaur'],\n",
       "       ['478.jpg', 'Bulbasaur'],\n",
       "       ['479.jpg', 'Bulbasaur'],\n",
       "       ['480.jpg', 'Bulbasaur'],\n",
       "       ['481.jpg', 'Bulbasaur'],\n",
       "       ['482.jpg', 'Bulbasaur'],\n",
       "       ['483.jpg', 'Bulbasaur'],\n",
       "       ['484.jpg', 'Bulbasaur'],\n",
       "       ['485.jpg', 'Bulbasaur'],\n",
       "       ['486.jpg', 'Bulbasaur'],\n",
       "       ['487.jpg', 'Bulbasaur'],\n",
       "       ['488.jpg', 'Bulbasaur'],\n",
       "       ['489.jpg', 'Bulbasaur'],\n",
       "       ['490.jpg', 'Bulbasaur'],\n",
       "       ['491.jpg', 'Bulbasaur'],\n",
       "       ['492.jpg', 'Bulbasaur'],\n",
       "       ['493.jpg', 'Bulbasaur'],\n",
       "       ['494.jpg', 'Bulbasaur'],\n",
       "       ['495.jpg', 'Bulbasaur'],\n",
       "       ['496.jpg', 'Bulbasaur'],\n",
       "       ['497.jpg', 'Bulbasaur'],\n",
       "       ['498.jpg', 'Charmander'],\n",
       "       ['520.jpg', 'Charmander'],\n",
       "       ['521.jpg', 'Charmander'],\n",
       "       ['522.jpg', 'Charmander'],\n",
       "       ['523.jpg', 'Charmander'],\n",
       "       ['524.jpg', 'Charmander'],\n",
       "       ['525.jpg', 'Charmander'],\n",
       "       ['526.jpg', 'Charmander'],\n",
       "       ['527.jpg', 'Charmander'],\n",
       "       ['528.jpg', 'Charmander'],\n",
       "       ['529.jpg', 'Charmander'],\n",
       "       ['530.jpg', 'Charmander'],\n",
       "       ['531.jpg', 'Charmander'],\n",
       "       ['532.jpg', 'Charmander'],\n",
       "       ['533.jpg', 'Charmander'],\n",
       "       ['534.jpg', 'Charmander'],\n",
       "       ['535.jpg', 'Charmander'],\n",
       "       ['536.jpg', 'Charmander'],\n",
       "       ['537.jpg', 'Charmander'],\n",
       "       ['538.jpg', 'Charmander'],\n",
       "       ['539.jpg', 'Charmander'],\n",
       "       ['540.jpg', 'Charmander'],\n",
       "       ['541.jpg', 'Charmander'],\n",
       "       ['542.jpg', 'Charmander'],\n",
       "       ['543.jpg', 'Charmander'],\n",
       "       ['544.jpg', 'Charmander'],\n",
       "       ['545.jpg', 'Charmander'],\n",
       "       ['546.jpg', 'Charmander'],\n",
       "       ['547.jpg', 'Charmander'],\n",
       "       ['548.jpg', 'Charmander'],\n",
       "       ['549.jpg', 'Charmander'],\n",
       "       ['550.jpg', 'Charmander'],\n",
       "       ['551.jpg', 'Charmander'],\n",
       "       ['552.jpg', 'Charmander'],\n",
       "       ['553.jpg', 'Charmander'],\n",
       "       ['554.jpg', 'Charmander'],\n",
       "       ['555.jpg', 'Charmander'],\n",
       "       ['556.jpg', 'Charmander'],\n",
       "       ['557.jpg', 'Charmander'],\n",
       "       ['558.jpg', 'Charmander'],\n",
       "       ['559.jpg', 'Charmander'],\n",
       "       ['560.jpg', 'Charmander'],\n",
       "       ['561.jpg', 'Charmander'],\n",
       "       ['562.jpg', 'Charmander'],\n",
       "       ['563.jpg', 'Charmander'],\n",
       "       ['564.jpg', 'Charmander'],\n",
       "       ['565.jpg', 'Charmander'],\n",
       "       ['566.jpg', 'Charmander'],\n",
       "       ['567.jpg', 'Charmander'],\n",
       "       ['568.jpg', 'Charmander'],\n",
       "       ['569.jpg', 'Charmander'],\n",
       "       ['570.jpg', 'Charmander'],\n",
       "       ['571.jpg', 'Charmander'],\n",
       "       ['572.jpg', 'Charmander'],\n",
       "       ['573.jpg', 'Charmander'],\n",
       "       ['574.jpg', 'Charmander'],\n",
       "       ['575.jpg', 'Charmander'],\n",
       "       ['576.jpg', 'Charmander'],\n",
       "       ['577.jpg', 'Charmander'],\n",
       "       ['578.jpg', 'Charmander'],\n",
       "       ['579.jpg', 'Charmander'],\n",
       "       ['580.jpg', 'Charmander'],\n",
       "       ['581.jpg', 'Charmander'],\n",
       "       ['582.jpg', 'Charmander'],\n",
       "       ['583.jpg', 'Charmander'],\n",
       "       ['584.jpg', 'Charmander'],\n",
       "       ['585.jpg', 'Charmander'],\n",
       "       ['586.jpg', 'Charmander'],\n",
       "       ['587.jpg', 'Charmander'],\n",
       "       ['588.jpg', 'Charmander'],\n",
       "       ['589.jpg', 'Charmander'],\n",
       "       ['590.jpg', 'Charmander'],\n",
       "       ['591.jpg', 'Charmander'],\n",
       "       ['592.jpg', 'Charmander'],\n",
       "       ['593.jpg', 'Charmander'],\n",
       "       ['594.jpg', 'Charmander'],\n",
       "       ['595.jpg', 'Charmander'],\n",
       "       ['596.jpg', 'Charmander'],\n",
       "       ['597.jpg', 'Charmander'],\n",
       "       ['598.jpg', 'Charmander'],\n",
       "       ['599.jpg', 'Charmander'],\n",
       "       ['600.jpg', 'Charmander'],\n",
       "       ['601.jpg', 'Charmander'],\n",
       "       ['602.jpg', 'Charmander'],\n",
       "       ['603.jpg', 'Charmander'],\n",
       "       ['604.jpg', 'Charmander'],\n",
       "       ['605.jpg', 'Charmander'],\n",
       "       ['606.jpg', 'Charmander'],\n",
       "       ['607.jpg', 'Charmander'],\n",
       "       ['608.jpg', 'Charmander'],\n",
       "       ['609.jpg', 'Charmander'],\n",
       "       ['610.jpg', 'Charmander'],\n",
       "       ['611.jpg', 'Charmander'],\n",
       "       ['612.jpg', 'Charmander'],\n",
       "       ['613.jpg', 'Charmander'],\n",
       "       ['614.jpg', 'Charmander'],\n",
       "       ['615.jpg', 'Charmander'],\n",
       "       ['616.jpg', 'Charmander'],\n",
       "       ['617.jpg', 'Charmander'],\n",
       "       ['618.jpg', 'Charmander'],\n",
       "       ['619.jpg', 'Charmander'],\n",
       "       ['620.jpg', 'Charmander']], dtype=object)"
      ]
     },
     "execution_count": 5,
     "metadata": {},
     "output_type": "execute_result"
    }
   ],
   "source": [
    "y"
   ]
  },
  {
   "cell_type": "code",
   "execution_count": 6,
   "metadata": {},
   "outputs": [
    {
     "name": "stdout",
     "output_type": "stream",
     "text": [
      "{'Bulbasaur': 0, 'Charmander': 1, 'Pikachu': 2}\n"
     ]
    }
   ],
   "source": [
    "unique_y =np.unique(y[:,1])\n",
    "y_dict={}\n",
    "for i in range(len(unique_y)):\n",
    "    y_dict[unique_y[i]]=i\n",
    "print(y_dict)"
   ]
  },
  {
   "cell_type": "code",
   "execution_count": 7,
   "metadata": {},
   "outputs": [],
   "source": [
    "p = Path(\"./Train/Images\")"
   ]
  },
  {
   "cell_type": "code",
   "execution_count": 8,
   "metadata": {},
   "outputs": [
    {
     "name": "stdout",
     "output_type": "stream",
     "text": [
      "Train\\Images\n"
     ]
    }
   ],
   "source": [
    "print(p)"
   ]
  },
  {
   "cell_type": "code",
   "execution_count": 9,
   "metadata": {},
   "outputs": [],
   "source": [
    "images = p.glob(\"*.jpg\")"
   ]
  },
  {
   "cell_type": "code",
   "execution_count": 10,
   "metadata": {},
   "outputs": [],
   "source": [
    "x=[]\n",
    "labels=[]\n",
    "for image_name in images:\n",
    "    image_number = str(image_name).split(\"\\\\\")[-1]\n",
    "    img = cv2.imread(str(image_name))\n",
    "    img=cv2.resize(img,(32,32))\n",
    "    x.append(img)\n",
    "    labels.append(y_dict[[i[1] for i in y if i[0]==image_number][0]])\n",
    "    "
   ]
  },
  {
   "cell_type": "code",
   "execution_count": 11,
   "metadata": {},
   "outputs": [],
   "source": [
    "x=np.array(x)\n",
    "labels=np.array(labels)"
   ]
  },
  {
   "cell_type": "code",
   "execution_count": 12,
   "metadata": {},
   "outputs": [
    {
     "name": "stdout",
     "output_type": "stream",
     "text": [
      "(304, 32, 32, 3) (304,)\n"
     ]
    }
   ],
   "source": [
    "print(x.shape,labels.shape)"
   ]
  },
  {
   "cell_type": "code",
   "execution_count": 13,
   "metadata": {},
   "outputs": [],
   "source": [
    "import random\n",
    "def shuffle(x,labels):\n",
    "    l = list(zip(x,labels))\n",
    "    random.shuffle(l)\n",
    "    x[:],labels[:] = zip(*l)\n",
    "def draw_image(img):\n",
    "    plt.imshow(img)\n",
    "    plt.axis(\"off\")\n",
    "    plt.show()\n",
    "    return\n",
    "    \n",
    "    "
   ]
  },
  {
   "cell_type": "code",
   "execution_count": 14,
   "metadata": {},
   "outputs": [],
   "source": [
    "shuffle(x,labels)"
   ]
  },
  {
   "cell_type": "code",
   "execution_count": 15,
   "metadata": {},
   "outputs": [
    {
     "data": {
      "image/png": "[encoded data removed]",
      "text/plain": [
       "<Figure size 432x288 with 1 Axes>"
      ]
     },
     "metadata": {
      "needs_background": "light"
     },
     "output_type": "display_data"
    },
    {
     "name": "stdout",
     "output_type": "stream",
     "text": [
      "1\n"
     ]
    },
    {
     "data": {
      "image/png": "[encoded data removed]",
      "text/plain": [
       "<Figure size 432x288 with 1 Axes>"
      ]
     },
     "metadata": {
      "needs_background": "light"
     },
     "output_type": "display_data"
    },
    {
     "name": "stdout",
     "output_type": "stream",
     "text": [
      "1\n"
     ]
    },
    {
     "data": {
      "image/png": "[encoded data removed]",
      "text/plain": [
       "<Figure size 432x288 with 1 Axes>"
      ]
     },
     "metadata": {
      "needs_background": "light"
     },
     "output_type": "display_data"
    },
    {
     "name": "stdout",
     "output_type": "stream",
     "text": [
      "2\n"
     ]
    },
    {
     "data": {
      "image/png": "[encoded data removed]",
      "text/plain": [
       "<Figure size 432x288 with 1 Axes>"
      ]
     },
     "metadata": {
      "needs_background": "light"
     },
     "output_type": "display_data"
    },
    {
     "name": "stdout",
     "output_type": "stream",
     "text": [
      "0\n"
     ]
    },
    {
     "data": {
      "image/png": "[encoded data removed]",
      "text/plain": [
       "<Figure size 432x288 with 1 Axes>"
      ]
     },
     "metadata": {
      "needs_background": "light"
     },
     "output_type": "display_data"
    },
    {
     "name": "stdout",
     "output_type": "stream",
     "text": [
      "2\n"
     ]
    },
    {
     "data": {
      "image/png": "[encoded data removed]",
      "text/plain": [
       "<Figure size 432x288 with 1 Axes>"
      ]
     },
     "metadata": {
      "needs_background": "light"
     },
     "output_type": "display_data"
    },
    {
     "name": "stdout",
     "output_type": "stream",
     "text": [
      "1\n"
     ]
    },
    {
     "data": {
      "image/png": "[encoded data removed]",
      "text/plain": [
       "<Figure size 432x288 with 1 Axes>"
      ]
     },
     "metadata": {
      "needs_background": "light"
     },
     "output_type": "display_data"
    },
    {
     "name": "stdout",
     "output_type": "stream",
     "text": [
      "2\n"
     ]
    },
    {
     "data": {
      "image/png": "[encoded data removed]",
      "text/plain": [
       "<Figure size 432x288 with 1 Axes>"
      ]
     },
     "metadata": {
      "needs_background": "light"
     },
     "output_type": "display_data"
    },
    {
     "name": "stdout",
     "output_type": "stream",
     "text": [
      "2\n"
     ]
    },
    {
     "data": {
      "image/png": "[encoded data removed]",
      "text/plain": [
       "<Figure size 432x288 with 1 Axes>"
      ]
     },
     "metadata": {
      "needs_background": "light"
     },
     "output_type": "display_data"
    },
    {
     "name": "stdout",
     "output_type": "stream",
     "text": [
      "1\n"
     ]
    },
    {
     "data": {
      "image/png": "[encoded data removed]",
      "text/plain": [
       "<Figure size 432x288 with 1 Axes>"
      ]
     },
     "metadata": {
      "needs_background": "light"
     },
     "output_type": "display_data"
    },
    {
     "name": "stdout",
     "output_type": "stream",
     "text": [
      "1\n"
     ]
    }
   ],
   "source": [
    "for i in range(10):\n",
    "    draw_image(x[i])\n",
    "    print(labels[i])"
   ]
  },
  {
   "cell_type": "code",
   "execution_count": 16,
   "metadata": {},
   "outputs": [],
   "source": [
    "class SVM:\n",
    "    def __init__(self,C=1.0):\n",
    "        self.C=C\n",
    "        self.W=0\n",
    "        self.b=0\n",
    "    def hingeloss(self,W,b,X,Y):\n",
    "        loss = 0.0\n",
    "        loss+=.5*np.dot(W,W.T)\n",
    "        n=X.shape[0]\n",
    "        for i in range(n):\n",
    "            ti = Y[i]*(np.dot(W,X[i].T)+b)\n",
    "            loss+=self.C*max(0,(1-ti))\n",
    "            \n",
    "        return loss[0][0]\n",
    "    def fit(self,X,Y,batch_size=100,learning_rate=0.0001,max_itr=200):\n",
    "        no_of_features=X.shape[1]\n",
    "        no_of_samples=X.shape[0]\n",
    "        n=learning_rate\n",
    "        c=self.C\n",
    "        W=np.zeros((1,no_of_features))\n",
    "        bias=0\n",
    "        losses=[]\n",
    "        \n",
    "        for i in range(max_itr):\n",
    "            l=self.hingeloss(W,bias,X,Y)\n",
    "            losses.append(l)\n",
    "            idx = np.arange(no_of_samples)\n",
    "            np.random.shuffle(idx)\n",
    "            \n",
    "            for batch_start in range(0,no_of_samples,batch_size):\n",
    "                gradw=0\n",
    "                gradb=0\n",
    "                \n",
    "                for j in range(batch_start,batch_start+batch_size):\n",
    "                    if j<no_of_samples:\n",
    "                        i=idx[j]\n",
    "                        ti = Y[i]*(np.dot(W,X[i].T)+bias)\n",
    "                        \n",
    "                        if(ti>1):\n",
    "                            gradw+=0\n",
    "                            gradb+=0\n",
    "                        else:\n",
    "                            gradw+=c*Y[i]*X[i]\n",
    "                            gradb+=c*Y[i]\n",
    "                W=W-n*W+n*gradw\n",
    "                bias=bias+n*gradb\n",
    "            \n",
    "        self.W=W\n",
    "        self.b=bias\n",
    "        return W,bias,losses\n",
    "            "
   ]
  },
  {
   "cell_type": "code",
   "execution_count": 17,
   "metadata": {},
   "outputs": [
    {
     "name": "stdout",
     "output_type": "stream",
     "text": [
      "(304, 3072) (304,)\n"
     ]
    }
   ],
   "source": [
    "M=x.shape[0]\n",
    "x=x.reshape(M,-1)\n",
    "print(x.shape,labels.shape)"
   ]
  },
  {
   "cell_type": "code",
   "execution_count": 18,
   "metadata": {},
   "outputs": [],
   "source": [
    "Classes = np.unique(labels)\n",
    "def ClassWiseData(x,y):\n",
    "    data={}\n",
    "    for i in Classes:\n",
    "        data[i]=[]\n",
    "    for i in range(x.shape[0]):\n",
    "        data[y[i]].append(x[i])\n",
    "        \n",
    "    for k in data.keys():\n",
    "        data[k]=np.array(data[k])\n",
    "    return data\n",
    "def getDataPairforSvm(d1,d2):\n",
    "    l1,l2=d1.shape[0],d2.shape[0]\n",
    "    samples = d1.shape[0]+d2.shape[0]\n",
    "    features = d1.shape[1]\n",
    "    data_pair=np.zeros((samples,features))\n",
    "    data_labels = np.zeros((samples,))\n",
    "    data_pair[:d1.shape[0],:]=d1\n",
    "    data_pair[d1.shape[0] :,:]=d2\n",
    "    data_labels[:d1.shape[0]]=-1\n",
    "    data_labels[d1.shape[0]:]=1\n",
    "    return data_pair,data_labels"
   ]
  },
  {
   "cell_type": "code",
   "execution_count": 19,
   "metadata": {},
   "outputs": [],
   "source": [
    "mySvm = SVM()\n",
    "def Train_SvmClassifiers(x,y):\n",
    "    Svm_Classifier={}\n",
    "    for i in range(len(Classes)):\n",
    "        Svm_Classifier[i]={}\n",
    "        for j in range(i+1,len(Classes)):\n",
    "            x_pair,y_pair=getDataPairforSvm(data[i],data[j])\n",
    "            wts,b,loss = mySvm.fit(x_pair,y_pair)\n",
    "            Svm_Classifier[i][j]=(wts,b)\n",
    "            plt.plot(loss)\n",
    "            plt.show()\n",
    "    return Svm_Classifier"
   ]
  },
  {
   "cell_type": "code",
   "execution_count": 20,
   "metadata": {
    "scrolled": true
   },
   "outputs": [
    {
     "data": {
      "image/png": "[encoded data removed]",
      "text/plain": [
       "<Figure size 432x288 with 1 Axes>"
      ]
     },
     "metadata": {
      "needs_background": "light"
     },
     "output_type": "display_data"
    },
    {
     "data": {
      "image/png": "[encoded data removed]",
      "text/plain": [
       "<Figure size 432x288 with 1 Axes>"
      ]
     },
     "metadata": {
      "needs_background": "light"
     },
     "output_type": "display_data"
    },
    {
     "data": {
      "image/png": "[encoded data removed]",
      "text/plain": [
       "<Figure size 432x288 with 1 Axes>"
      ]
     },
     "metadata": {
      "needs_background": "light"
     },
     "output_type": "display_data"
    }
   ],
   "source": [
    "data = ClassWiseData(x,labels)\n",
    "Svm_Classifier=Train_SvmClassifiers(x,labels)"
   ]
  },
  {
   "cell_type": "code",
   "execution_count": 21,
   "metadata": {},
   "outputs": [],
   "source": [
    "def get_key(val): \n",
    "    for key, value in y_dict.items(): \n",
    "         if val == value: \n",
    "             return key \n",
    "def binary_predict(x,w,b):\n",
    "    z=np.dot(x,w.T)+b\n",
    "    if(z>=0):\n",
    "        return 1\n",
    "    else:\n",
    "        return 0\n",
    "def Predict(x):\n",
    "    count=np.zeros((len(Classes),))\n",
    "    for i in range(len(Classes)):\n",
    "        for j in range(i+1,len(Classes)):\n",
    "            w,b= Svm_Classifier[i][j]\n",
    "            z=binary_predict(x,w,b)\n",
    "            if(z==1):\n",
    "                count[j]+=1\n",
    "            else:\n",
    "                count[i]+=1\n",
    "    #return get_key(np.argmax(count))\n",
    "    return np.argmax(count)\n",
    "    "
   ]
  },
  {
   "cell_type": "code",
   "execution_count": 22,
   "metadata": {},
   "outputs": [],
   "source": [
    "p = Path(\"./Test/Images\")\n",
    "test_images=p.glob(\"*.jpg\")\n"
   ]
  },
  {
   "cell_type": "code",
   "execution_count": 23,
   "metadata": {},
   "outputs": [
    {
     "data": {
      "text/plain": [
       "(123, 3072)"
      ]
     },
     "execution_count": 23,
     "metadata": {},
     "output_type": "execute_result"
    }
   ],
   "source": [
    "x_test=[]\n",
    "file_name=[]\n",
    "for image_name in test_images:\n",
    "    image_number = str(image_name).split(\"\\\\\")[-1]\n",
    "    file_name.append(image_number)\n",
    "    img = cv2.imread(str(image_name))\n",
    "    img=cv2.resize(img,(32,32))\n",
    "    x_test.append(img)\n",
    "x_test=np.array(x_test)\n",
    "m=x_test.shape[0]\n",
    "x_test=x_test.reshape(m,-1)\n",
    "x_test.shape"
   ]
  },
  {
   "cell_type": "code",
   "execution_count": 24,
   "metadata": {},
   "outputs": [],
   "source": [
    "def accuracy(X, y ):\n",
    "    y_pred = []\n",
    "    for i in range(X.shape[0]):\n",
    "        p = Predict(X[i])\n",
    "        y_pred.append(int(p))\n",
    "        \n",
    "    y_pred = np.array(y_pred)\n",
    "    acc = (y_pred == y).sum()/y.shape[0]\n",
    "    return acc"
   ]
  },
  {
   "cell_type": "code",
   "execution_count": 25,
   "metadata": {
    "scrolled": true
   },
   "outputs": [
    {
     "data": {
      "text/plain": [
       "0.625"
      ]
     },
     "execution_count": 25,
     "metadata": {},
     "output_type": "execute_result"
    }
   ],
   "source": [
    "accuracy(x,labels)"
   ]
  },
  {
   "cell_type": "code",
   "execution_count": 26,
   "metadata": {},
   "outputs": [],
   "source": [
    "from sklearn.svm import SVC\n"
   ]
  },
  {
   "cell_type": "code",
   "execution_count": 27,
   "metadata": {},
   "outputs": [],
   "source": [
    "model = SVC(C=2)"
   ]
  },
  {
   "cell_type": "code",
   "execution_count": 28,
   "metadata": {},
   "outputs": [
    {
     "name": "stderr",
     "output_type": "stream",
     "text": [
      "C:\\ProgramData\\Anaconda3\\lib\\site-packages\\sklearn\\svm\\base.py:193: FutureWarning: The default value of gamma will change from 'auto' to 'scale' in version 0.22 to account better for unscaled features. Set gamma explicitly to 'auto' or 'scale' to avoid this warning.\n",
      "  \"avoid this warning.\", FutureWarning)\n"
     ]
    },
    {
     "data": {
      "text/plain": [
       "SVC(C=2, cache_size=200, class_weight=None, coef0=0.0,\n",
       "    decision_function_shape='ovr', degree=3, gamma='auto_deprecated',\n",
       "    kernel='rbf', max_iter=-1, probability=False, random_state=None,\n",
       "    shrinking=True, tol=0.001, verbose=False)"
      ]
     },
     "execution_count": 28,
     "metadata": {},
     "output_type": "execute_result"
    }
   ],
   "source": [
    "model.fit(x, labels)"
   ]
  },
  {
   "cell_type": "code",
   "execution_count": 29,
   "metadata": {},
   "outputs": [
    {
     "data": {
      "text/plain": [
       "0.7236842105263158"
      ]
     },
     "execution_count": 29,
     "metadata": {},
     "output_type": "execute_result"
    }
   ],
   "source": [
    "model.score(x, labels)"
   ]
  },
  {
   "cell_type": "code",
   "execution_count": 30,
   "metadata": {},
   "outputs": [],
   "source": [
    "prediction=model.predict(x_test)"
   ]
  },
  {
   "cell_type": "code",
   "execution_count": 31,
   "metadata": {},
   "outputs": [],
   "source": [
    "prediction=[get_key(i) for i in prediction]"
   ]
  },
  {
   "cell_type": "code",
   "execution_count": 32,
   "metadata": {},
   "outputs": [],
   "source": [
    "test_output=[]\n",
    "for i in range(len(file_name)):\n",
    "    test_output.append([file_name[i],prediction[i]])\n",
    "    "
   ]
  },
  {
   "cell_type": "code",
   "execution_count": 33,
   "metadata": {},
   "outputs": [
    {
     "data": {
      "text/plain": [
       "[['1100.jpg', 'Bulbasaur'],\n",
       " ['1101.jpg', 'Charmander'],\n",
       " ['1102.jpg', 'Bulbasaur'],\n",
       " ['1103.jpg', 'Bulbasaur'],\n",
       " ['1104.jpg', 'Bulbasaur'],\n",
       " ['1105.jpg', 'Charmander'],\n",
       " ['1106.jpg', 'Bulbasaur'],\n",
       " ['1107.jpg', 'Bulbasaur'],\n",
       " ['1108.jpg', 'Charmander'],\n",
       " ['1109.jpg', 'Bulbasaur'],\n",
       " ['1110.jpg', 'Bulbasaur'],\n",
       " ['1111.jpg', 'Charmander'],\n",
       " ['1112.jpg', 'Bulbasaur'],\n",
       " ['1113.jpg', 'Bulbasaur'],\n",
       " ['1114.jpg', 'Bulbasaur'],\n",
       " ['1115.jpg', 'Charmander'],\n",
       " ['1116.jpg', 'Bulbasaur'],\n",
       " ['1117.jpg', 'Charmander'],\n",
       " ['1118.jpg', 'Charmander'],\n",
       " ['1119.jpg', 'Bulbasaur'],\n",
       " ['1120.jpg', 'Pikachu'],\n",
       " ['1121.jpg', 'Charmander'],\n",
       " ['1122.jpg', 'Bulbasaur'],\n",
       " ['1123.jpg', 'Bulbasaur'],\n",
       " ['1124.jpg', 'Bulbasaur'],\n",
       " ['1125.jpg', 'Bulbasaur'],\n",
       " ['1126.jpg', 'Charmander'],\n",
       " ['1127.jpg', 'Charmander'],\n",
       " ['1128.jpg', 'Bulbasaur'],\n",
       " ['1129.jpg', 'Bulbasaur'],\n",
       " ['1130.jpg', 'Charmander'],\n",
       " ['1131.jpg', 'Bulbasaur'],\n",
       " ['1132.jpg', 'Bulbasaur'],\n",
       " ['1133.jpg', 'Charmander'],\n",
       " ['1134.jpg', 'Charmander'],\n",
       " ['1135.jpg', 'Bulbasaur'],\n",
       " ['1136.jpg', 'Bulbasaur'],\n",
       " ['1137.jpg', 'Pikachu'],\n",
       " ['1138.jpg', 'Bulbasaur'],\n",
       " ['1139.jpg', 'Bulbasaur'],\n",
       " ['1140.jpg', 'Charmander'],\n",
       " ['2000.jpg', 'Pikachu'],\n",
       " ['2001.jpg', 'Charmander'],\n",
       " ['2002.jpg', 'Charmander'],\n",
       " ['2003.jpg', 'Charmander'],\n",
       " ['2004.jpg', 'Charmander'],\n",
       " ['2005.jpg', 'Charmander'],\n",
       " ['2006.jpg', 'Charmander'],\n",
       " ['2007.jpg', 'Charmander'],\n",
       " ['2008.jpg', 'Charmander'],\n",
       " ['2009.jpg', 'Charmander'],\n",
       " ['2010.jpg', 'Charmander'],\n",
       " ['2011.jpg', 'Charmander'],\n",
       " ['2012.jpg', 'Charmander'],\n",
       " ['2013.jpg', 'Charmander'],\n",
       " ['2014.jpg', 'Charmander'],\n",
       " ['2015.jpg', 'Charmander'],\n",
       " ['2016.jpg', 'Charmander'],\n",
       " ['2017.jpg', 'Charmander'],\n",
       " ['2018.jpg', 'Charmander'],\n",
       " ['2019.jpg', 'Charmander'],\n",
       " ['2020.jpg', 'Charmander'],\n",
       " ['2021.jpg', 'Charmander'],\n",
       " ['2022.jpg', 'Charmander'],\n",
       " ['2023.jpg', 'Charmander'],\n",
       " ['2024.jpg', 'Charmander'],\n",
       " ['2025.jpg', 'Charmander'],\n",
       " ['2026.jpg', 'Charmander'],\n",
       " ['2027.jpg', 'Charmander'],\n",
       " ['2028.jpg', 'Charmander'],\n",
       " ['2029.jpg', 'Charmander'],\n",
       " ['2030.jpg', 'Charmander'],\n",
       " ['2031.jpg', 'Charmander'],\n",
       " ['2032.jpg', 'Charmander'],\n",
       " ['2033.jpg', 'Charmander'],\n",
       " ['2034.jpg', 'Charmander'],\n",
       " ['2035.jpg', 'Charmander'],\n",
       " ['2036.jpg', 'Charmander'],\n",
       " ['2037.jpg', 'Charmander'],\n",
       " ['2038.jpg', 'Charmander'],\n",
       " ['2039.jpg', 'Charmander'],\n",
       " ['2040.jpg', 'Charmander'],\n",
       " ['2200.jpg', 'Charmander'],\n",
       " ['2201.jpg', 'Charmander'],\n",
       " ['2202.jpg', 'Charmander'],\n",
       " ['2203.jpg', 'Charmander'],\n",
       " ['2204.jpg', 'Charmander'],\n",
       " ['2205.jpg', 'Charmander'],\n",
       " ['2206.jpg', 'Charmander'],\n",
       " ['2207.jpg', 'Charmander'],\n",
       " ['2208.jpg', 'Charmander'],\n",
       " ['2209.jpg', 'Charmander'],\n",
       " ['2210.jpg', 'Charmander'],\n",
       " ['2211.jpg', 'Charmander'],\n",
       " ['2212.jpg', 'Bulbasaur'],\n",
       " ['2213.jpg', 'Charmander'],\n",
       " ['2214.jpg', 'Charmander'],\n",
       " ['2215.jpg', 'Charmander'],\n",
       " ['2216.jpg', 'Pikachu'],\n",
       " ['2217.jpg', 'Charmander'],\n",
       " ['2218.jpg', 'Charmander'],\n",
       " ['2219.jpg', 'Charmander'],\n",
       " ['2220.jpg', 'Charmander'],\n",
       " ['2221.jpg', 'Charmander'],\n",
       " ['2222.jpg', 'Charmander'],\n",
       " ['2223.jpg', 'Charmander'],\n",
       " ['2224.jpg', 'Charmander'],\n",
       " ['2225.jpg', 'Charmander'],\n",
       " ['2226.jpg', 'Charmander'],\n",
       " ['2227.jpg', 'Charmander'],\n",
       " ['2228.jpg', 'Charmander'],\n",
       " ['2229.jpg', 'Charmander'],\n",
       " ['2230.jpg', 'Charmander'],\n",
       " ['2231.jpg', 'Charmander'],\n",
       " ['2232.jpg', 'Charmander'],\n",
       " ['2233.jpg', 'Charmander'],\n",
       " ['2234.jpg', 'Charmander'],\n",
       " ['2235.jpg', 'Charmander'],\n",
       " ['2236.jpg', 'Charmander'],\n",
       " ['2237.jpg', 'Charmander'],\n",
       " ['2238.jpg', 'Charmander'],\n",
       " ['2239.jpg', 'Charmander'],\n",
       " ['2240.jpg', 'Charmander']]"
      ]
     },
     "execution_count": 33,
     "metadata": {},
     "output_type": "execute_result"
    }
   ],
   "source": [
    "test_output"
   ]
  },
  {
   "cell_type": "code",
   "execution_count": 35,
   "metadata": {},
   "outputs": [],
   "source": [
    "df = pd.DataFrame(test_output)"
   ]
  },
  {
   "cell_type": "code",
   "execution_count": 36,
   "metadata": {},
   "outputs": [],
   "source": [
    "df.columns=[\"ImageId\",\"NameOfPokemon\"]"
   ]
  },
  {
   "cell_type": "code",
   "execution_count": 37,
   "metadata": {},
   "outputs": [
    {
     "data": {
      "text/html": [
       "<div>\n",
       "<style scoped>\n",
       "    .dataframe tbody tr th:only-of-type {\n",
       "        vertical-align: middle;\n",
       "    }\n",
       "\n",
       "    .dataframe tbody tr th {\n",
       "        vertical-align: top;\n",
       "    }\n",
       "\n",
       "    .dataframe thead th {\n",
       "        text-align: right;\n",
       "    }\n",
       "</style>\n",
       "<table border=\"1\" class=\"dataframe\">\n",
       "  <thead>\n",
       "    <tr style=\"text-align: right;\">\n",
       "      <th></th>\n",
       "      <th>ImageId</th>\n",
       "      <th>NameOfPokemon</th>\n",
       "    </tr>\n",
       "  </thead>\n",
       "  <tbody>\n",
       "    <tr>\n",
       "      <td>0</td>\n",
       "      <td>1100.jpg</td>\n",
       "      <td>Bulbasaur</td>\n",
       "    </tr>\n",
       "    <tr>\n",
       "      <td>1</td>\n",
       "      <td>1101.jpg</td>\n",
       "      <td>Charmander</td>\n",
       "    </tr>\n",
       "    <tr>\n",
       "      <td>2</td>\n",
       "      <td>1102.jpg</td>\n",
       "      <td>Bulbasaur</td>\n",
       "    </tr>\n",
       "    <tr>\n",
       "      <td>3</td>\n",
       "      <td>1103.jpg</td>\n",
       "      <td>Bulbasaur</td>\n",
       "    </tr>\n",
       "    <tr>\n",
       "      <td>4</td>\n",
       "      <td>1104.jpg</td>\n",
       "      <td>Bulbasaur</td>\n",
       "    </tr>\n",
       "    <tr>\n",
       "      <td>...</td>\n",
       "      <td>...</td>\n",
       "      <td>...</td>\n",
       "    </tr>\n",
       "    <tr>\n",
       "      <td>118</td>\n",
       "      <td>2236.jpg</td>\n",
       "      <td>Charmander</td>\n",
       "    </tr>\n",
       "    <tr>\n",
       "      <td>119</td>\n",
       "      <td>2237.jpg</td>\n",
       "      <td>Charmander</td>\n",
       "    </tr>\n",
       "    <tr>\n",
       "      <td>120</td>\n",
       "      <td>2238.jpg</td>\n",
       "      <td>Charmander</td>\n",
       "    </tr>\n",
       "    <tr>\n",
       "      <td>121</td>\n",
       "      <td>2239.jpg</td>\n",
       "      <td>Charmander</td>\n",
       "    </tr>\n",
       "    <tr>\n",
       "      <td>122</td>\n",
       "      <td>2240.jpg</td>\n",
       "      <td>Charmander</td>\n",
       "    </tr>\n",
       "  </tbody>\n",
       "</table>\n",
       "<p>123 rows × 2 columns</p>\n",
       "</div>"
      ],
      "text/plain": [
       "      ImageId NameOfPokemon\n",
       "0    1100.jpg     Bulbasaur\n",
       "1    1101.jpg    Charmander\n",
       "2    1102.jpg     Bulbasaur\n",
       "3    1103.jpg     Bulbasaur\n",
       "4    1104.jpg     Bulbasaur\n",
       "..        ...           ...\n",
       "118  2236.jpg    Charmander\n",
       "119  2237.jpg    Charmander\n",
       "120  2238.jpg    Charmander\n",
       "121  2239.jpg    Charmander\n",
       "122  2240.jpg    Charmander\n",
       "\n",
       "[123 rows x 2 columns]"
      ]
     },
     "execution_count": 37,
     "metadata": {},
     "output_type": "execute_result"
    }
   ],
   "source": [
    "df"
   ]
  },
  {
   "cell_type": "code",
   "execution_count": 41,
   "metadata": {},
   "outputs": [],
   "source": [
    "df.to_csv(\"output.csv\", index=False) "
   ]
  },
  {
   "cell_type": "code",
   "execution_count": null,
   "metadata": {},
   "outputs": [],
   "source": []
  }
 ],
 "metadata": {
  "kernelspec": {
   "display_name": "Python 3",
   "language": "python",
   "name": "python3"
  },
  "language_info": {
   "codemirror_mode": {
    "name": "ipython",
    "version": 3
   },
   "file_extension": ".py",
   "mimetype": "text/x-python",
   "name": "python",
   "nbconvert_exporter": "python",
   "pygments_lexer": "ipython3",
   "version": "3.7.4"
  }
 },
 "nbformat": 4,
 "nbformat_minor": 2
}
